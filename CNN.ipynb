{
  "nbformat": 4,
  "nbformat_minor": 0,
  "metadata": {
    "colab": {
      "name": "CNN2.ipynb",
      "provenance": []
    },
    "kernelspec": {
      "name": "python3",
      "display_name": "Python 3"
    },
    "language_info": {
      "name": "python"
    },
    "accelerator": "GPU"
  },
  "cells": [
    {
      "cell_type": "markdown",
      "metadata": {
        "id": "B2maFQuXt79J"
      },
      "source": [
        "#**The Fashion-MNIST Data Set**\n",
        "### Fashion-MNIST is similar to the MNIST dataset that you might already know, which you use to classify handwritten digits. That means that the image dimensions, training and test splits are similar to the MNIST dataset."
      ]
    },
    {
      "cell_type": "markdown",
      "metadata": {
        "id": "LZDFgsoNwSM6"
      },
      "source": [
        "# **Load the Data**\n",
        "\n",
        "Keras comes with a library called datasets, which you can use to load datasets out of the box: you download the data from the server and speeds up the process since you no longer have to download the data to your computer. The train and test images along with the labels are loaded and stored in variables train_X, train_Y, test_X, test_Y, respectively. "
      ]
    },
    {
      "cell_type": "code",
      "metadata": {
        "colab": {
          "base_uri": "https://localhost:8080/"
        },
        "id": "T_XaRhw2txLO",
        "outputId": "70496113-e357-45d5-9857-8d4ac81880fd"
      },
      "source": [
        "from keras.datasets import fashion_mnist\n",
        "(train_X,train_Y), (test_X,test_Y) = fashion_mnist.load_data()"
      ],
      "execution_count": 1,
      "outputs": [
        {
          "output_type": "stream",
          "name": "stdout",
          "text": [
            "Downloading data from https://storage.googleapis.com/tensorflow/tf-keras-datasets/train-labels-idx1-ubyte.gz\n",
            "32768/29515 [=================================] - 0s 0us/step\n",
            "40960/29515 [=========================================] - 0s 0us/step\n",
            "Downloading data from https://storage.googleapis.com/tensorflow/tf-keras-datasets/train-images-idx3-ubyte.gz\n",
            "26427392/26421880 [==============================] - 0s 0us/step\n",
            "26435584/26421880 [==============================] - 0s 0us/step\n",
            "Downloading data from https://storage.googleapis.com/tensorflow/tf-keras-datasets/t10k-labels-idx1-ubyte.gz\n",
            "16384/5148 [===============================================================================================] - 0s 0us/step\n",
            "Downloading data from https://storage.googleapis.com/tensorflow/tf-keras-datasets/t10k-images-idx3-ubyte.gz\n",
            "4423680/4422102 [==============================] - 0s 0us/step\n",
            "4431872/4422102 [==============================] - 0s 0us/step\n"
          ]
        }
      ]
    },
    {
      "cell_type": "markdown",
      "metadata": {
        "id": "VfZhCYXaw2dC"
      },
      "source": [
        "# **Analyze the Data**\n",
        "\n",
        "Let's now analyze how images in the dataset look like. Even though you know the dimension of the images by now, it's still worth the effort to analyze it programmatically: you might have to rescale the image pixels and resize the images."
      ]
    },
    {
      "cell_type": "code",
      "metadata": {
        "colab": {
          "base_uri": "https://localhost:8080/"
        },
        "id": "omeKeezywhJE",
        "outputId": "4ceb9e83-c451-4d1a-8d96-4f2bfca73e53"
      },
      "source": [
        "import numpy as np\n",
        "from tensorflow.keras.utils import to_categorical \n",
        "import matplotlib.pyplot as plt\n",
        "%matplotlib inline\n",
        "\n",
        "print('Training data shape : ', train_X.shape, train_Y.shape)\n",
        "\n",
        "print('Testing data shape : ', test_X.shape, test_Y.shape)"
      ],
      "execution_count": 2,
      "outputs": [
        {
          "output_type": "stream",
          "name": "stdout",
          "text": [
            "Training data shape :  (60000, 28, 28) (60000,)\n",
            "Testing data shape :  (10000, 28, 28) (10000,)\n"
          ]
        }
      ]
    },
    {
      "cell_type": "code",
      "metadata": {
        "colab": {
          "base_uri": "https://localhost:8080/"
        },
        "id": "9Mx1K262ygio",
        "outputId": "e95dc0f2-d1a5-4ef7-b8ab-6337b16da56d"
      },
      "source": [
        "# Find the unique numbers from the train labels\n",
        "classes = np.unique(train_Y)\n",
        "nClasses = len(classes)\n",
        "print('Total number of outputs : ', nClasses)\n",
        "print('Output classes : ', classes)"
      ],
      "execution_count": 3,
      "outputs": [
        {
          "output_type": "stream",
          "name": "stdout",
          "text": [
            "Total number of outputs :  10\n",
            "Output classes :  [0 1 2 3 4 5 6 7 8 9]\n"
          ]
        }
      ]
    },
    {
      "cell_type": "markdown",
      "metadata": {
        "id": "NaFj8-LHzA45"
      },
      "source": [
        "There's also a total of ten output classes that range from 0 to 9.\n",
        "\n",
        "Also, don't forget to take a look at what the images in your dataset:\n"
      ]
    },
    {
      "cell_type": "code",
      "metadata": {
        "colab": {
          "base_uri": "https://localhost:8080/",
          "height": 208
        },
        "id": "1ksUjJyqyuKn",
        "outputId": "97f61cb2-fb5e-4643-a276-a00646e36c7b"
      },
      "source": [
        "plt.figure(figsize=[5,5])\n",
        "\n",
        "# Display the first image in training data\n",
        "plt.subplot(121)\n",
        "plt.imshow(train_X[0,:,:], cmap='gray')\n",
        "plt.title(\"Ground Truth : {}\".format(train_Y[0]))\n",
        "\n",
        "# Display the first image in testing data\n",
        "plt.subplot(122)\n",
        "plt.imshow(test_X[0,:,:], cmap='gray')\n",
        "plt.title(\"Ground Truth : {}\".format(test_Y[0]))"
      ],
      "execution_count": 4,
      "outputs": [
        {
          "output_type": "execute_result",
          "data": {
            "text/plain": [
              "Text(0.5, 1.0, 'Ground Truth : 9')"
            ]
          },
          "metadata": {},
          "execution_count": 4
        },
        {
          "output_type": "display_data",
          "data": {
            "image/png": "[encoded data removed]",
            "text/plain": [
              "<Figure size 360x360 with 2 Axes>"
            ]
          },
          "metadata": {
            "needs_background": "light"
          }
        }
      ]
    },
    {
      "cell_type": "markdown",
      "metadata": {
        "id": "siWVU8II0kb5"
      },
      "source": [
        "# **Data Preprocessing**\n",
        "\n",
        "As you could see in the above plot, the images are grayscale images have pixel values that range from 0 to 255. Also, these images have a dimension of 28 x 28. As a result, you'll need to preprocess the data before you feed it into the model.\n",
        "\n",
        "* As a first step, convert each 28 x 28 image of the train and test set \n",
        "into a matrix of size 28 x 28 x 1 which is fed into the network.\n"
      ]
    },
    {
      "cell_type": "code",
      "metadata": {
        "colab": {
          "base_uri": "https://localhost:8080/"
        },
        "id": "IoP7YCu-zPj6",
        "outputId": "a7d101fb-83c5-492f-c3fa-88fd0dd716ef"
      },
      "source": [
        "train_X = train_X.reshape(-1, 28,28, 1)\n",
        "test_X = test_X.reshape(-1, 28,28, 1)\n",
        "train_X.shape, test_X.shape"
      ],
      "execution_count": 5,
      "outputs": [
        {
          "output_type": "execute_result",
          "data": {
            "text/plain": [
              "((60000, 28, 28, 1), (10000, 28, 28, 1))"
            ]
          },
          "metadata": {},
          "execution_count": 5
        }
      ]
    },
    {
      "cell_type": "markdown",
      "metadata": {
        "id": "HUC2rLK21JH9"
      },
      "source": [
        "* The data right now is in an int8 format, so before you feed it into the network you need to convert its type to float32, and you also have to rescale the pixel values in range 0 - 1 inclusive. So let's do that!"
      ]
    },
    {
      "cell_type": "code",
      "metadata": {
        "id": "GRxjQ4vl1Q1-"
      },
      "source": [
        "train_X = train_X.astype('float32')\n",
        "test_X = test_X.astype('float32')\n",
        "train_X = train_X / 255.\n",
        "test_X = test_X / 255."
      ],
      "execution_count": 6,
      "outputs": []
    },
    {
      "cell_type": "markdown",
      "metadata": {
        "id": "98qMzRER1bN_"
      },
      "source": [
        "* Now you need to convert the class labels into a one-hot encoding vector."
      ]
    },
    {
      "cell_type": "markdown",
      "metadata": {
        "id": "RuDz15M01y3t"
      },
      "source": [
        "In one-hot encoding, you convert the categorical data into a vector of numbers. The reason why you convert the categorical data in one hot encoding is that machine learning algorithms cannot work with categorical data directly. You generate one boolean column for each category or class. Only one of these columns could take on the value 1 for each sample. Hence, the term one-hot encoding.\n",
        "\n",
        "For your problem statement, the one hot encoding will be a row vector, and for each image, it will have a dimension of 1 x 10. The important thing to note here is that the vector consists of all zeros except for the class that it represents, and for that, it is 1. For example, the ankle boot image that you plotted above has a label of 9, so for all the ankle boot images, the one hot encoding vector would be [0 0 0 0 0 0 0 0 1 0]. "
      ]
    },
    {
      "cell_type": "code",
      "metadata": {
        "colab": {
          "base_uri": "https://localhost:8080/"
        },
        "id": "YEgzp57W11wV",
        "outputId": "4fc08bc3-cb86-4795-910d-db96061c5029"
      },
      "source": [
        "# Change the labels from categorical to one-hot encoding\n",
        "train_Y_one_hot = to_categorical(train_Y)\n",
        "test_Y_one_hot = to_categorical(test_Y)\n",
        "\n",
        "# Display the change for category label using one-hot encoding\n",
        "print('Original label:', train_Y[0])\n",
        "print('After conversion to one-hot:', train_Y_one_hot[0])"
      ],
      "execution_count": 7,
      "outputs": [
        {
          "output_type": "stream",
          "name": "stdout",
          "text": [
            "Original label: 9\n",
            "After conversion to one-hot: [0. 0. 0. 0. 0. 0. 0. 0. 0. 1.]\n"
          ]
        }
      ]
    },
    {
      "cell_type": "markdown",
      "metadata": {
        "id": "quC1IhAB4Q28"
      },
      "source": [
        "* This last step is a crucial one. In machine learning or any data specific task, you should partition the data correctly. For the model to generalize well, you split the training data into two parts, one designed for training and another one for validation. In this case, you will train the model on 80\\% of the training data and validate it on 20\\% of the remaining training data. This will also help to reduce overfitting since you will be validating the model on the data it would not have seen in training phase, which will help in boosting the test performance."
      ]
    },
    {
      "cell_type": "code",
      "metadata": {
        "id": "4HHsoIbc1dW7"
      },
      "source": [
        "from sklearn.model_selection import train_test_split\n",
        "train_X,valid_X,train_label,valid_label = train_test_split(train_X, train_Y_one_hot, test_size=0.2, random_state=13)"
      ],
      "execution_count": 8,
      "outputs": []
    },
    {
      "cell_type": "code",
      "metadata": {
        "colab": {
          "base_uri": "https://localhost:8080/"
        },
        "id": "mTSpRo8B4YWx",
        "outputId": "297b2399-42b5-430a-f7e8-8a206aa6ffa9"
      },
      "source": [
        "#For one last time let's check the shape of training and validation set.\n",
        "\n",
        "train_X.shape,valid_X.shape,train_label.shape,valid_label.shape"
      ],
      "execution_count": 9,
      "outputs": [
        {
          "output_type": "execute_result",
          "data": {
            "text/plain": [
              "((48000, 28, 28, 1), (12000, 28, 28, 1), (48000, 10), (12000, 10))"
            ]
          },
          "metadata": {},
          "execution_count": 9
        }
      ]
    },
    {
      "cell_type": "markdown",
      "metadata": {
        "id": "jPXlqxy84tm7"
      },
      "source": [
        "#**The Network**\n",
        "\n",
        "The images are of size 28 x 28. You convert the image matrix to an array, rescale it between 0 and 1, reshape it so that it's of size 28 x 28 x 1, and feed this as an input to the network.\n",
        "\n",
        "You'll use three convolutional layers:\n",
        "\n",
        "* The first layer will have 32-3 x 3 filters,\n",
        "* The second layer will have 64-3 x 3 filters and\n",
        "* The third layer will have 128-3 x 3 filters.\n",
        "\n",
        "In addition, there are three max-pooling layers each of size 2 x 2."
      ]
    },
    {
      "cell_type": "markdown",
      "metadata": {
        "id": "1xWlmOiCP0aP"
      },
      "source": [
        "![picture](https://res.cloudinary.com/dyd911kmh/image/upload/f_auto,q_auto:best/v1512486717/fashion-mnist-architecture_htbpsz.png)"
      ]
    },
    {
      "cell_type": "markdown",
      "metadata": {
        "id": "WTAffxzCRHjL"
      },
      "source": [
        "# **Model the Data**\n",
        "First, let's import all the necessary modules required to train the model."
      ]
    },
    {
      "cell_type": "code",
      "metadata": {
        "id": "Y1ZcGjhBQMHy"
      },
      "source": [
        "import keras\n",
        "import tensorflow as tf\n",
        "from keras.models import Sequential,Input,Model\n",
        "from keras.layers import Dense, Dropout, Flatten\n",
        "from keras.layers import Conv2D, MaxPooling2D\n",
        "from tensorflow.keras.layers import BatchNormalization  # not from keras.layers.normalization import BatchNormalization\n",
        "from keras.layers.advanced_activations import LeakyReLU"
      ],
      "execution_count": 10,
      "outputs": []
    },
    {
      "cell_type": "markdown",
      "metadata": {
        "id": "yASMqWv6SLCP"
      },
      "source": [
        "You will use a batch size of 64 using a higher batch size of 128 or 256 is also preferable it all depends on the memory. It contributes massively to determining the learning parameters and affects the prediction accuracy. You will train the network for 20 epochs."
      ]
    },
    {
      "cell_type": "code",
      "metadata": {
        "id": "G9enNtFiQABi"
      },
      "source": [
        "batch_size = 64\n",
        "epochs = 20\n",
        "num_classes = 10"
      ],
      "execution_count": 11,
      "outputs": []
    },
    {
      "cell_type": "markdown",
      "metadata": {
        "id": "t60JnAIRSU53"
      },
      "source": [
        "# **Neural Network Architecture**"
      ]
    },
    {
      "cell_type": "code",
      "metadata": {
        "id": "7EGNKzo24lR8"
      },
      "source": [
        "fashion_model = Sequential()\n",
        "fashion_model.add(Conv2D(32, kernel_size=(3, 3),activation='linear',input_shape=(28,28,1),padding='same'))\n",
        "fashion_model.add(LeakyReLU(alpha=0.1))\n",
        "fashion_model.add(MaxPooling2D((2, 2),padding='same'))\n",
        "fashion_model.add(Conv2D(64, (3, 3), activation='linear',padding='same'))\n",
        "fashion_model.add(LeakyReLU(alpha=0.1))\n",
        "fashion_model.add(MaxPooling2D(pool_size=(2, 2),padding='same'))\n",
        "fashion_model.add(Conv2D(128, (3, 3), activation='linear',padding='same'))\n",
        "fashion_model.add(LeakyReLU(alpha=0.1))                  \n",
        "fashion_model.add(MaxPooling2D(pool_size=(2, 2),padding='same'))\n",
        "fashion_model.add(Flatten())\n",
        "fashion_model.add(Dense(128, activation='linear'))\n",
        "fashion_model.add(LeakyReLU(alpha=0.1))                  \n",
        "fashion_model.add(Dense(num_classes, activation='softmax'))"
      ],
      "execution_count": 12,
      "outputs": []
    },
    {
      "cell_type": "markdown",
      "metadata": {
        "id": "bB7dKiFGSfeV"
      },
      "source": [
        "# **Compile the Model**"
      ]
    },
    {
      "cell_type": "code",
      "metadata": {
        "id": "NMzC7op8Sbru"
      },
      "source": [
        "fashion_model.compile(loss=keras.losses.categorical_crossentropy, optimizer=tf.keras.optimizers.Adam(),metrics=['accuracy'])"
      ],
      "execution_count": 13,
      "outputs": []
    },
    {
      "cell_type": "code",
      "metadata": {
        "colab": {
          "base_uri": "https://localhost:8080/"
        },
        "id": "GuDSuX89Slav",
        "outputId": "9b302f99-076f-4852-94e0-6e3f3756be79"
      },
      "source": [
        "fashion_model.summary()"
      ],
      "execution_count": 14,
      "outputs": [
        {
          "output_type": "stream",
          "name": "stdout",
          "text": [
            "Model: \"sequential\"\n",
            "_________________________________________________________________\n",
            " Layer (type)                Output Shape              Param #   \n",
            "=================================================================\n",
            " conv2d (Conv2D)             (None, 28, 28, 32)        320       \n",
            "                                                                 \n",
            " leaky_re_lu (LeakyReLU)     (None, 28, 28, 32)        0         \n",
            "                                                                 \n",
            " max_pooling2d (MaxPooling2D  (None, 14, 14, 32)       0         \n",
            " )                                                               \n",
            "                                                                 \n",
            " conv2d_1 (Conv2D)           (None, 14, 14, 64)        18496     \n",
            "                                                                 \n",
            " leaky_re_lu_1 (LeakyReLU)   (None, 14, 14, 64)        0         \n",
            "                                                                 \n",
            " max_pooling2d_1 (MaxPooling  (None, 7, 7, 64)         0         \n",
            " 2D)                                                             \n",
            "                                                                 \n",
            " conv2d_2 (Conv2D)           (None, 7, 7, 128)         73856     \n",
            "                                                                 \n",
            " leaky_re_lu_2 (LeakyReLU)   (None, 7, 7, 128)         0         \n",
            "                                                                 \n",
            " max_pooling2d_2 (MaxPooling  (None, 4, 4, 128)        0         \n",
            " 2D)                                                             \n",
            "                                                                 \n",
            " flatten (Flatten)           (None, 2048)              0         \n",
            "                                                                 \n",
            " dense (Dense)               (None, 128)               262272    \n",
            "                                                                 \n",
            " leaky_re_lu_3 (LeakyReLU)   (None, 128)               0         \n",
            "                                                                 \n",
            " dense_1 (Dense)             (None, 10)                1290      \n",
            "                                                                 \n",
            "=================================================================\n",
            "Total params: 356,234\n",
            "Trainable params: 356,234\n",
            "Non-trainable params: 0\n",
            "_________________________________________________________________\n"
          ]
        }
      ]
    },
    {
      "cell_type": "markdown",
      "metadata": {
        "id": "CdyhnfHITWWr"
      },
      "source": [
        "# **Train the Model**"
      ]
    },
    {
      "cell_type": "code",
      "metadata": {
        "colab": {
          "base_uri": "https://localhost:8080/"
        },
        "id": "5_BxZ9FdTYsl",
        "outputId": "789a705c-9c82-4f0b-8d46-9dbc83c86732"
      },
      "source": [
        "fashion_train = fashion_model.fit(train_X, train_label, batch_size=batch_size,epochs=epochs,verbose=1,validation_data=(valid_X, valid_label))"
      ],
      "execution_count": 15,
      "outputs": [
        {
          "output_type": "stream",
          "name": "stdout",
          "text": [
            "Epoch 1/20\n",
            "750/750 [==============================] - 24s 15ms/step - loss: 0.4613 - accuracy: 0.8310 - val_loss: 0.3324 - val_accuracy: 0.8819\n",
            "Epoch 2/20\n",
            "750/750 [==============================] - 11s 14ms/step - loss: 0.2836 - accuracy: 0.8957 - val_loss: 0.2994 - val_accuracy: 0.8908\n",
            "Epoch 3/20\n",
            "750/750 [==============================] - 11s 15ms/step - loss: 0.2381 - accuracy: 0.9137 - val_loss: 0.2796 - val_accuracy: 0.8991\n",
            "Epoch 4/20\n",
            "750/750 [==============================] - 11s 14ms/step - loss: 0.2062 - accuracy: 0.9237 - val_loss: 0.2311 - val_accuracy: 0.9143\n",
            "Epoch 5/20\n",
            "750/750 [==============================] - 11s 15ms/step - loss: 0.1813 - accuracy: 0.9327 - val_loss: 0.2406 - val_accuracy: 0.9131\n",
            "Epoch 6/20\n",
            "750/750 [==============================] - 11s 14ms/step - loss: 0.1585 - accuracy: 0.9397 - val_loss: 0.2279 - val_accuracy: 0.9180\n",
            "Epoch 7/20\n",
            "750/750 [==============================] - 11s 14ms/step - loss: 0.1347 - accuracy: 0.9502 - val_loss: 0.2409 - val_accuracy: 0.9173\n",
            "Epoch 8/20\n",
            "750/750 [==============================] - 11s 14ms/step - loss: 0.1183 - accuracy: 0.9551 - val_loss: 0.2317 - val_accuracy: 0.9247\n",
            "Epoch 9/20\n",
            "750/750 [==============================] - 11s 14ms/step - loss: 0.0951 - accuracy: 0.9640 - val_loss: 0.2463 - val_accuracy: 0.9258\n",
            "Epoch 10/20\n",
            "750/750 [==============================] - 10s 14ms/step - loss: 0.0848 - accuracy: 0.9681 - val_loss: 0.2675 - val_accuracy: 0.9202\n",
            "Epoch 11/20\n",
            "750/750 [==============================] - 11s 14ms/step - loss: 0.0699 - accuracy: 0.9740 - val_loss: 0.2946 - val_accuracy: 0.9218\n",
            "Epoch 12/20\n",
            "750/750 [==============================] - 10s 14ms/step - loss: 0.0620 - accuracy: 0.9766 - val_loss: 0.3298 - val_accuracy: 0.9176\n",
            "Epoch 13/20\n",
            "750/750 [==============================] - 10s 14ms/step - loss: 0.0519 - accuracy: 0.9801 - val_loss: 0.3385 - val_accuracy: 0.9186\n",
            "Epoch 14/20\n",
            "750/750 [==============================] - 10s 14ms/step - loss: 0.0466 - accuracy: 0.9825 - val_loss: 0.3499 - val_accuracy: 0.9186\n",
            "Epoch 15/20\n",
            "750/750 [==============================] - 10s 14ms/step - loss: 0.0403 - accuracy: 0.9850 - val_loss: 0.4269 - val_accuracy: 0.9178\n",
            "Epoch 16/20\n",
            "750/750 [==============================] - 10s 14ms/step - loss: 0.0429 - accuracy: 0.9842 - val_loss: 0.3517 - val_accuracy: 0.9137\n",
            "Epoch 17/20\n",
            "750/750 [==============================] - 10s 14ms/step - loss: 0.0373 - accuracy: 0.9861 - val_loss: 0.4026 - val_accuracy: 0.9233\n",
            "Epoch 18/20\n",
            "750/750 [==============================] - 10s 14ms/step - loss: 0.0326 - accuracy: 0.9884 - val_loss: 0.4070 - val_accuracy: 0.9236\n",
            "Epoch 19/20\n",
            "750/750 [==============================] - 11s 14ms/step - loss: 0.0327 - accuracy: 0.9876 - val_loss: 0.4527 - val_accuracy: 0.9198\n",
            "Epoch 20/20\n",
            "750/750 [==============================] - 11s 14ms/step - loss: 0.0293 - accuracy: 0.9890 - val_loss: 0.4460 - val_accuracy: 0.9195\n"
          ]
        }
      ]
    },
    {
      "cell_type": "markdown",
      "metadata": {
        "id": "a3MJ3p60yjS-"
      },
      "source": [
        "Finally! You trained the model on fashion-MNIST for 20 epochs, and by observing the training accuracy and loss, you can say that the model did a good job since after 20 epochs the training accuracy is 99% and the training loss is quite low.\n",
        "\n",
        "However, it looks like the model is overfitting, as the validation loss is 0.4396 and the validation accuracy is 92%. Overfitting gives an intuition that the network has memorized the training data very well but is not guaranteed to work on unseen data, and that is why there is a difference in the training and validation accuracy. "
      ]
    },
    {
      "cell_type": "markdown",
      "metadata": {
        "id": "3RqW1v7Wy_dG"
      },
      "source": [
        "# **Model Evaluation on the Test Set**\n"
      ]
    },
    {
      "cell_type": "code",
      "metadata": {
        "id": "T7NBOheCTebp"
      },
      "source": [
        "test_eval = fashion_model.evaluate(test_X, test_Y_one_hot, verbose=0)"
      ],
      "execution_count": 16,
      "outputs": []
    },
    {
      "cell_type": "code",
      "metadata": {
        "colab": {
          "base_uri": "https://localhost:8080/"
        },
        "id": "blALfCbszSAa",
        "outputId": "dfce2bfb-6645-4359-8ccf-55954e872b31"
      },
      "source": [
        "print('Test loss:', test_eval[0])\n",
        "print('Test accuracy:', test_eval[1])"
      ],
      "execution_count": 17,
      "outputs": [
        {
          "output_type": "stream",
          "name": "stdout",
          "text": [
            "Test loss: 0.4643067419528961\n",
            "Test accuracy: 0.9190999865531921\n"
          ]
        }
      ]
    },
    {
      "cell_type": "markdown",
      "metadata": {
        "id": "Tywkpbplz8IT"
      },
      "source": [
        "Let's put your model evaluation into perspective and plot the accuracy and loss plots between training and validation data:"
      ]
    },
    {
      "cell_type": "code",
      "metadata": {
        "colab": {
          "base_uri": "https://localhost:8080/",
          "height": 545
        },
        "id": "A7rvJcuYzXSl",
        "outputId": "f8006ba6-30aa-4e5b-cdda-72d436ce806b"
      },
      "source": [
        "accuracy = fashion_train.history['accuracy']\n",
        "val_accuracy = fashion_train.history['val_accuracy']\n",
        "loss = fashion_train.history['loss']\n",
        "val_loss = fashion_train.history['val_loss']\n",
        "epochs = range(len(accuracy))\n",
        "plt.plot(epochs, accuracy, 'bo', label='Training accuracy')\n",
        "plt.plot(epochs, val_accuracy, 'b', label='Validation accuracy')\n",
        "plt.title('Training and validation accuracy')\n",
        "plt.legend()\n",
        "plt.figure()\n",
        "plt.plot(epochs, loss, 'bo', label='Training loss')\n",
        "plt.plot(epochs, val_loss, 'b', label='Validation loss')\n",
        "plt.title('Training and validation loss')\n",
        "plt.legend()\n",
        "plt.show()"
      ],
      "execution_count": 18,
      "outputs": [
        {
          "output_type": "display_data",
          "data": {
            "image/png": "[encoded data removed]",
            "text/plain": [
              "<Figure size 432x288 with 1 Axes>"
            ]
          },
          "metadata": {
            "needs_background": "light"
          }
        },
        {
          "output_type": "display_data",
          "data": {
            "image/png": "[encoded data removed]",
            "text/plain": [
              "<Figure size 432x288 with 1 Axes>"
            ]
          },
          "metadata": {
            "needs_background": "light"
          }
        }
      ]
    },
    {
      "cell_type": "markdown",
      "metadata": {
        "id": "Ynkgn7gk0oPK"
      },
      "source": [
        "From the above two plots, you can see that the validation accuracy almost became stagnant after 4-5 epochs and rarely increased at certain epochs. In the beginning, the validation accuracy was linearly increasing with loss, but then it did not increase much.\n",
        "\n",
        "The validation loss shows that this is the sign of overfitting, similar to validation accuracy it linearly decreased but after 4-5 epochs, it started to increase. This means that the model tried to memorize the data and succeeded.\n",
        "\n",
        "With this in mind, it's time to introduce some dropout into our model and see if it helps in reducing overfitting."
      ]
    },
    {
      "cell_type": "markdown",
      "metadata": {
        "id": "IxCzCPgx0rVV"
      },
      "source": [
        "# **Adding Dropout into the Network**"
      ]
    },
    {
      "cell_type": "markdown",
      "metadata": {
        "id": "XS94BSzv1RLM"
      },
      "source": [
        "You can add a dropout layer to overcome the problem of overfitting to some extent. Dropout randomly turns off a fraction of neurons during the training process, reducing the dependency on the training set by some amount. How many fractions of neurons you want to turn off is decided by a hyperparameter, which can be tuned accordingly. This way, turning off some neurons will not allow the network to memorize the training data since not all the neurons will be active at the same time and the inactive neurons will not be able to learn anything.\n",
        "\n",
        "So let's create, compile and train the network again but this time with dropout. And run it for 20 epochs with a batch size of 64."
      ]
    },
    {
      "cell_type": "code",
      "metadata": {
        "id": "dCtmYXkB0pzB"
      },
      "source": [
        "batch_size = 64\n",
        "epochs = 20\n",
        "num_classes = 10"
      ],
      "execution_count": 19,
      "outputs": []
    },
    {
      "cell_type": "code",
      "metadata": {
        "id": "6ee5jmdq1XWn"
      },
      "source": [
        "fashion_model = Sequential()\n",
        "fashion_model.add(Conv2D(32, kernel_size=(3, 3),activation='linear',padding='same',input_shape=(28,28,1)))\n",
        "fashion_model.add(LeakyReLU(alpha=0.1))\n",
        "fashion_model.add(MaxPooling2D((2, 2),padding='same'))\n",
        "fashion_model.add(Dropout(0.25))\n",
        "fashion_model.add(Conv2D(64, (3, 3), activation='linear',padding='same'))\n",
        "fashion_model.add(LeakyReLU(alpha=0.1))\n",
        "fashion_model.add(MaxPooling2D(pool_size=(2, 2),padding='same'))\n",
        "fashion_model.add(Dropout(0.25))\n",
        "fashion_model.add(Conv2D(128, (3, 3), activation='linear',padding='same'))\n",
        "fashion_model.add(LeakyReLU(alpha=0.1))                  \n",
        "fashion_model.add(MaxPooling2D(pool_size=(2, 2),padding='same'))\n",
        "fashion_model.add(Dropout(0.4))\n",
        "fashion_model.add(Flatten())\n",
        "fashion_model.add(Dense(128, activation='linear'))\n",
        "fashion_model.add(LeakyReLU(alpha=0.1))           \n",
        "fashion_model.add(Dropout(0.3))\n",
        "fashion_model.add(Dense(num_classes, activation='softmax'))\n"
      ],
      "execution_count": 20,
      "outputs": []
    },
    {
      "cell_type": "code",
      "metadata": {
        "colab": {
          "base_uri": "https://localhost:8080/"
        },
        "id": "s4TwqLU00F4-",
        "outputId": "d7cff5d2-fca3-45a5-ee7b-63d30cd9a204"
      },
      "source": [
        "fashion_model.summary()"
      ],
      "execution_count": 21,
      "outputs": [
        {
          "output_type": "stream",
          "name": "stdout",
          "text": [
            "Model: \"sequential_1\"\n",
            "_________________________________________________________________\n",
            " Layer (type)                Output Shape              Param #   \n",
            "=================================================================\n",
            " conv2d_3 (Conv2D)           (None, 28, 28, 32)        320       \n",
            "                                                                 \n",
            " leaky_re_lu_4 (LeakyReLU)   (None, 28, 28, 32)        0         \n",
            "                                                                 \n",
            " max_pooling2d_3 (MaxPooling  (None, 14, 14, 32)       0         \n",
            " 2D)                                                             \n",
            "                                                                 \n",
            " dropout (Dropout)           (None, 14, 14, 32)        0         \n",
            "                                                                 \n",
            " conv2d_4 (Conv2D)           (None, 14, 14, 64)        18496     \n",
            "                                                                 \n",
            " leaky_re_lu_5 (LeakyReLU)   (None, 14, 14, 64)        0         \n",
            "                                                                 \n",
            " max_pooling2d_4 (MaxPooling  (None, 7, 7, 64)         0         \n",
            " 2D)                                                             \n",
            "                                                                 \n",
            " dropout_1 (Dropout)         (None, 7, 7, 64)          0         \n",
            "                                                                 \n",
            " conv2d_5 (Conv2D)           (None, 7, 7, 128)         73856     \n",
            "                                                                 \n",
            " leaky_re_lu_6 (LeakyReLU)   (None, 7, 7, 128)         0         \n",
            "                                                                 \n",
            " max_pooling2d_5 (MaxPooling  (None, 4, 4, 128)        0         \n",
            " 2D)                                                             \n",
            "                                                                 \n",
            " dropout_2 (Dropout)         (None, 4, 4, 128)         0         \n",
            "                                                                 \n",
            " flatten_1 (Flatten)         (None, 2048)              0         \n",
            "                                                                 \n",
            " dense_2 (Dense)             (None, 128)               262272    \n",
            "                                                                 \n",
            " leaky_re_lu_7 (LeakyReLU)   (None, 128)               0         \n",
            "                                                                 \n",
            " dropout_3 (Dropout)         (None, 128)               0         \n",
            "                                                                 \n",
            " dense_3 (Dense)             (None, 10)                1290      \n",
            "                                                                 \n",
            "=================================================================\n",
            "Total params: 356,234\n",
            "Trainable params: 356,234\n",
            "Non-trainable params: 0\n",
            "_________________________________________________________________\n"
          ]
        }
      ]
    },
    {
      "cell_type": "code",
      "metadata": {
        "id": "a4tIy_9F1rxm"
      },
      "source": [
        "fashion_model.compile(loss=keras.losses.categorical_crossentropy, optimizer=tf.keras.optimizers.Adam(),metrics=['accuracy'])"
      ],
      "execution_count": 22,
      "outputs": []
    },
    {
      "cell_type": "code",
      "metadata": {
        "colab": {
          "base_uri": "https://localhost:8080/"
        },
        "id": "DBz6kYR-1x_x",
        "outputId": "3b2dfdd3-ca8d-487f-b142-55fb1172b404"
      },
      "source": [
        "fashion_train_dropout = fashion_model.fit(train_X, train_label, batch_size=batch_size,epochs=epochs,verbose=1,validation_data=(valid_X, valid_label))"
      ],
      "execution_count": 23,
      "outputs": [
        {
          "output_type": "stream",
          "name": "stdout",
          "text": [
            "Epoch 1/20\n",
            "750/750 [==============================] - 12s 16ms/step - loss: 0.5987 - accuracy: 0.7794 - val_loss: 0.3546 - val_accuracy: 0.8706\n",
            "Epoch 2/20\n",
            "750/750 [==============================] - 11s 15ms/step - loss: 0.3706 - accuracy: 0.8647 - val_loss: 0.3027 - val_accuracy: 0.8897\n",
            "Epoch 3/20\n",
            "750/750 [==============================] - 11s 15ms/step - loss: 0.3249 - accuracy: 0.8802 - val_loss: 0.2852 - val_accuracy: 0.8940\n",
            "Epoch 4/20\n",
            "750/750 [==============================] - 11s 15ms/step - loss: 0.2981 - accuracy: 0.8903 - val_loss: 0.2619 - val_accuracy: 0.9027\n",
            "Epoch 5/20\n",
            "750/750 [==============================] - 11s 15ms/step - loss: 0.2733 - accuracy: 0.8980 - val_loss: 0.2483 - val_accuracy: 0.9087\n",
            "Epoch 6/20\n",
            "750/750 [==============================] - 11s 15ms/step - loss: 0.2609 - accuracy: 0.9017 - val_loss: 0.2495 - val_accuracy: 0.9075\n",
            "Epoch 7/20\n",
            "750/750 [==============================] - 11s 15ms/step - loss: 0.2529 - accuracy: 0.9064 - val_loss: 0.2267 - val_accuracy: 0.9157\n",
            "Epoch 8/20\n",
            "750/750 [==============================] - 11s 15ms/step - loss: 0.2461 - accuracy: 0.9078 - val_loss: 0.2289 - val_accuracy: 0.9155\n",
            "Epoch 9/20\n",
            "750/750 [==============================] - 11s 15ms/step - loss: 0.2370 - accuracy: 0.9111 - val_loss: 0.2240 - val_accuracy: 0.9182\n",
            "Epoch 10/20\n",
            "750/750 [==============================] - 11s 14ms/step - loss: 0.2297 - accuracy: 0.9144 - val_loss: 0.2383 - val_accuracy: 0.9118\n",
            "Epoch 11/20\n",
            "750/750 [==============================] - 11s 15ms/step - loss: 0.2277 - accuracy: 0.9148 - val_loss: 0.2209 - val_accuracy: 0.9193\n",
            "Epoch 12/20\n",
            "750/750 [==============================] - 11s 15ms/step - loss: 0.2192 - accuracy: 0.9177 - val_loss: 0.2178 - val_accuracy: 0.9228\n",
            "Epoch 13/20\n",
            "750/750 [==============================] - 11s 15ms/step - loss: 0.2149 - accuracy: 0.9198 - val_loss: 0.2189 - val_accuracy: 0.9206\n",
            "Epoch 14/20\n",
            "750/750 [==============================] - 11s 14ms/step - loss: 0.2113 - accuracy: 0.9210 - val_loss: 0.2144 - val_accuracy: 0.9247\n",
            "Epoch 15/20\n",
            "750/750 [==============================] - 11s 14ms/step - loss: 0.2099 - accuracy: 0.9214 - val_loss: 0.2123 - val_accuracy: 0.9252\n",
            "Epoch 16/20\n",
            "750/750 [==============================] - 11s 14ms/step - loss: 0.2075 - accuracy: 0.9215 - val_loss: 0.2160 - val_accuracy: 0.9264\n",
            "Epoch 17/20\n",
            "750/750 [==============================] - 11s 15ms/step - loss: 0.2022 - accuracy: 0.9224 - val_loss: 0.2226 - val_accuracy: 0.9239\n",
            "Epoch 18/20\n",
            "750/750 [==============================] - 11s 14ms/step - loss: 0.1999 - accuracy: 0.9227 - val_loss: 0.2166 - val_accuracy: 0.9252\n",
            "Epoch 19/20\n",
            "750/750 [==============================] - 11s 14ms/step - loss: 0.1991 - accuracy: 0.9254 - val_loss: 0.2106 - val_accuracy: 0.9251\n",
            "Epoch 20/20\n",
            "750/750 [==============================] - 11s 14ms/step - loss: 0.1941 - accuracy: 0.9266 - val_loss: 0.2126 - val_accuracy: 0.9268\n"
          ]
        }
      ]
    },
    {
      "cell_type": "markdown",
      "metadata": {
        "id": "DKaPhqhu17fE"
      },
      "source": [
        "Let's save the model so that you can directly load it and not have to train it again for 20 epochs. This way, you can load the model later on if you need it and modify the architecture; Alternatively, you can start the training process on this saved model. It is always a good idea to save the model -and even the model's weights!- because it saves you time. Note that you can also save the model after every epoch so that, if some issue occurs that stops the training at an epoch, you will not have to start the training from the beginning."
      ]
    },
    {
      "cell_type": "code",
      "metadata": {
        "colab": {
          "base_uri": "https://localhost:8080/"
        },
        "id": "KVDfltkV1sd_",
        "outputId": "ead03eac-e225-47c7-a1ca-8b505657e4e7"
      },
      "source": [
        "fashion_model.save(\"fashion_model_dropout.h5py\")  "
      ],
      "execution_count": 35,
      "outputs": [
        {
          "output_type": "stream",
          "name": "stdout",
          "text": [
            "INFO:tensorflow:Assets written to: fashion_model_dropout.h5py/assets\n"
          ]
        }
      ]
    },
    {
      "cell_type": "markdown",
      "metadata": {
        "id": "jhVNh3Pj2UN5"
      },
      "source": [
        "# **Model Evaluation on the Test Set**"
      ]
    },
    {
      "cell_type": "code",
      "metadata": {
        "colab": {
          "base_uri": "https://localhost:8080/"
        },
        "id": "CvPHZiP_2P9N",
        "outputId": "5803ef8a-a19e-4696-91c4-a1284917a412"
      },
      "source": [
        "test_eval = fashion_model.evaluate(test_X, test_Y_one_hot, verbose=1)"
      ],
      "execution_count": 25,
      "outputs": [
        {
          "output_type": "stream",
          "name": "stdout",
          "text": [
            "313/313 [==============================] - 2s 5ms/step - loss: 0.2170 - accuracy: 0.9212\n"
          ]
        }
      ]
    },
    {
      "cell_type": "code",
      "metadata": {
        "colab": {
          "base_uri": "https://localhost:8080/"
        },
        "id": "eeM-KGrC2aqk",
        "outputId": "d06a5531-5631-43b2-8477-ea3ac69aa68e"
      },
      "source": [
        "print('Test loss:', test_eval[0])\n",
        "print('Test accuracy:', test_eval[1])"
      ],
      "execution_count": 26,
      "outputs": [
        {
          "output_type": "stream",
          "name": "stdout",
          "text": [
            "Test loss: 0.21703693270683289\n",
            "Test accuracy: 0.9211999773979187\n"
          ]
        }
      ]
    },
    {
      "cell_type": "markdown",
      "metadata": {
        "id": "X0Bv1wEJ2saz"
      },
      "source": [
        "Wow! Looks like adding Dropout in our model worked, even though the test accuracy did not improve significantly but the test loss decreased compared to the previous results.\n",
        "\n",
        "Now, let's plot the accuracy and loss plots between training and validation data for the one last time."
      ]
    },
    {
      "cell_type": "code",
      "metadata": {
        "colab": {
          "base_uri": "https://localhost:8080/",
          "height": 545
        },
        "id": "KwQ1JU5z2t0e",
        "outputId": "f264f4f0-936c-4ba5-ec28-da110ff5531b"
      },
      "source": [
        "accuracy = fashion_train_dropout.history['accuracy']\n",
        "val_accuracy = fashion_train_dropout.history['val_accuracy']\n",
        "loss = fashion_train_dropout.history['loss']\n",
        "val_loss = fashion_train_dropout.history['val_loss']\n",
        "epochs = range(len(accuracy))\n",
        "plt.plot(epochs, accuracy, 'bo', label='Training accuracy')\n",
        "plt.plot(epochs, val_accuracy, 'b', label='Validation accuracy')\n",
        "plt.title('Training and validation accuracy')\n",
        "plt.legend()\n",
        "plt.figure()\n",
        "plt.plot(epochs, loss, 'bo', label='Training loss')\n",
        "plt.plot(epochs, val_loss, 'b', label='Validation loss')\n",
        "plt.title('Training and validation loss')\n",
        "plt.legend()\n",
        "plt.show()"
      ],
      "execution_count": 27,
      "outputs": [
        {
          "output_type": "display_data",
          "data": {
            "image/png": "[encoded data removed]",
            "text/plain": [
              "<Figure size 432x288 with 1 Axes>"
            ]
          },
          "metadata": {
            "needs_background": "light"
          }
        },
        {
          "output_type": "display_data",
          "data": {
            "image/png": "[encoded data removed]",
            "text/plain": [
              "<Figure size 432x288 with 1 Axes>"
            ]
          },
          "metadata": {
            "needs_background": "light"
          }
        }
      ]
    },
    {
      "cell_type": "markdown",
      "metadata": {
        "id": "wuHg9waC22tM"
      },
      "source": [
        "# **Predict Labels**"
      ]
    },
    {
      "cell_type": "code",
      "metadata": {
        "id": "I908KXYb24k7"
      },
      "source": [
        "predicted_classes = fashion_model.predict(test_X)"
      ],
      "execution_count": 28,
      "outputs": []
    },
    {
      "cell_type": "code",
      "metadata": {
        "colab": {
          "base_uri": "https://localhost:8080/"
        },
        "id": "VXLqb9nG3lrD",
        "outputId": "1a3d455e-2888-4a26-dfa9-9d062501adee"
      },
      "source": [
        "predicted_classes = np.argmax(np.round(predicted_classes),axis=1)\n",
        "\n",
        "predicted_classes.shape, test_Y.shape"
      ],
      "execution_count": 29,
      "outputs": [
        {
          "output_type": "execute_result",
          "data": {
            "text/plain": [
              "((10000,), (10000,))"
            ]
          },
          "metadata": {},
          "execution_count": 29
        }
      ]
    },
    {
      "cell_type": "code",
      "metadata": {
        "colab": {
          "base_uri": "https://localhost:8080/",
          "height": 314
        },
        "id": "xLfBMY0-3m2K",
        "outputId": "77dc3d2c-a0ab-48bd-ed1c-ad9fef48daf1"
      },
      "source": [
        "correct = np.where(predicted_classes==test_Y)[0]\n",
        "print (\"Found %d correct labels\" % len(correct))\n",
        "for i, correct in enumerate(correct[:9]):\n",
        "    plt.subplot(3,3,i+1)\n",
        "    plt.imshow(test_X[correct].reshape(28,28), cmap='gray', interpolation='none')\n",
        "    plt.title(\"Predicted {}, Class {}\".format(predicted_classes[correct], test_Y[correct]))\n",
        "    plt.tight_layout()"
      ],
      "execution_count": 31,
      "outputs": [
        {
          "output_type": "stream",
          "name": "stdout",
          "text": [
            "Found 9186 correct labels\n"
          ]
        },
        {
          "output_type": "display_data",
          "data": {
            "image/png": "[encoded data removed]",
            "text/plain": [
              "<Figure size 432x288 with 9 Axes>"
            ]
          },
          "metadata": {
            "needs_background": "light"
          }
        }
      ]
    },
    {
      "cell_type": "code",
      "metadata": {
        "colab": {
          "base_uri": "https://localhost:8080/",
          "height": 314
        },
        "id": "oqTVdKnZ3pme",
        "outputId": "f955924a-f500-4546-a8e1-edc66244d71f"
      },
      "source": [
        "incorrect = np.where(predicted_classes!=test_Y)[0]\n",
        "print (\"Found %d incorrect labels\" % len(incorrect))\n",
        "for i, incorrect in enumerate(incorrect[:9]):\n",
        "    plt.subplot(3,3,i+1)\n",
        "    plt.imshow(test_X[incorrect].reshape(28,28), cmap='gray', interpolation='none')\n",
        "    plt.title(\"Predicted {}, Class {}\".format(predicted_classes[incorrect], test_Y[incorrect]))\n",
        "    plt.tight_layout()"
      ],
      "execution_count": 33,
      "outputs": [
        {
          "output_type": "stream",
          "name": "stdout",
          "text": [
            "Found 814 incorrect labels\n"
          ]
        },
        {
          "output_type": "display_data",
          "data": {
            "image/png": "[encoded data removed]",
            "text/plain": [
              "<Figure size 432x288 with 9 Axes>"
            ]
          },
          "metadata": {
            "needs_background": "light"
          }
        }
      ]
    },
    {
      "cell_type": "markdown",
      "metadata": {
        "id": "salCYU2M3xpc"
      },
      "source": [
        "# **Classification Report**"
      ]
    },
    {
      "cell_type": "code",
      "metadata": {
        "colab": {
          "base_uri": "https://localhost:8080/"
        },
        "id": "KvhetD403toh",
        "outputId": "31919a99-274a-4eb3-dace-d4ffe55d1016"
      },
      "source": [
        "from sklearn.metrics import classification_report\n",
        "target_names = [\"Class {}\".format(i) for i in range(num_classes)]\n",
        "print(classification_report(test_Y, predicted_classes, target_names=target_names))"
      ],
      "execution_count": 34,
      "outputs": [
        {
          "output_type": "stream",
          "name": "stdout",
          "text": [
            "              precision    recall  f1-score   support\n",
            "\n",
            "     Class 0       0.80      0.90      0.85      1000\n",
            "     Class 1       1.00      0.98      0.99      1000\n",
            "     Class 2       0.90      0.87      0.88      1000\n",
            "     Class 3       0.92      0.92      0.92      1000\n",
            "     Class 4       0.89      0.85      0.87      1000\n",
            "     Class 5       0.99      0.98      0.99      1000\n",
            "     Class 6       0.79      0.75      0.77      1000\n",
            "     Class 7       0.95      0.99      0.97      1000\n",
            "     Class 8       0.99      0.99      0.99      1000\n",
            "     Class 9       0.99      0.95      0.97      1000\n",
            "\n",
            "    accuracy                           0.92     10000\n",
            "   macro avg       0.92      0.92      0.92     10000\n",
            "weighted avg       0.92      0.92      0.92     10000\n",
            "\n"
          ]
        }
      ]
    }
  ]
}